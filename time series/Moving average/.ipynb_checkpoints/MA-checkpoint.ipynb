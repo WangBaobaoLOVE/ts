{
 "cells": [
  {
   "cell_type": "markdown",
   "metadata": {},
   "source": [
    "### 参考\n",
    "\n",
    "1. [移动平均法（Moving average，MA） 指数平滑法（Exponential Smoothing，ES）](https://blog.csdn.net/tz_zs/article/details/78341306)\n",
    "2. [时间序列模型 （二）：移动平均法](https://blog.csdn.net/qq_29831163/article/details/89440426)\n",
    "\n",
    "## 移动平均法（Moving average，MA）\n",
    "\n",
    "移动平均法又称滑动平均法、滑动平均模型法\n",
    "\n",
    "**移动平均法是用一组最近的实际数据值来预测未来一期或几期内公司产品的需求量、公司产能等的一种常用方法**。移动平均法适用于**即期预测**。当产品需求既不快速增长也不快速下降，且不存在季节性因素时，移动平均法能有效地消除预测中的随机波动，是非常有用的。移动平均法根据预测时使用的各元素的权重不同，可以分为：**简单移动平均**和**加权移动平均,**。\n",
    "\n",
    "**移动平均法是一种简单平滑预测技术**，它的基本思想是：根据时间序列、逐项推移，依次计算包含一定项数的时序平均值，以反映长期趋势的方法。因此，当时间序列的数值由于受周期变动和随机波动的影响，起伏较大，不易显示出事件的发展趋势时，使用移动平均法可以消除这些因素的影响，显示出事件的发展方向与趋势（即趋势线），然后依趋势线分析预测序列的长期趋势。\n",
    "\n",
    "### 简单移动平均法\n",
    "\n",
    "简单移动平均的**各元素的权重都相等**。简单的移动平均的计算公式如下：\n",
    "\n",
    "$$F_t = (A_{t-1}+A_{t-2}+A_{t-3}+\\cdots+A_{t-n})/n$$\n",
    "\n",
    "1. $F_t$:对下一期的预测值；\n",
    "2. n:移动平均的时期个数；\n",
    "3. $A_{t-1},A_{t-2},A_{t-3},A_{t-n}$:前一期实际值、前两期、前三期直至前n期的实际值。\n",
    "\n",
    "**当预测目标的基本趋势是在某一水平上下波动时，可用一次简单移动平均方法构建预测模型。**\n",
    "\n",
    "**其预测标准误差：**$$S = \\sqrt{\\frac{\\sum_{t=N+1}^{T}(y_t^*-y_t)^2}{T-N}}$$\n",
    "\n",
    "近N期序列值的平均值作为未来各期的预测结果。**一般 N 的取值范围： 5≤N≤ 200**。当历史序列的基本趋势变化不大且序列中**随机变动成分较多时，N的取值应较大一些**。否则 N 的取值应小一些。在有确定的季节变动周期的资料中，移动平均的项数应取周期长度。**选择N值的一个有效方法是，比较若干模型的预测误差。预测标准误差小者为好。**\n",
    "\n",
    "简单移动平均法**只适合做近期预测**，而且是预测目标的**发展趋势变化不大**的情况。 如果目标的发展趋势存在其它的变化，采用简单移动平均法就会产生**较大的预测偏差和滞后**。 \n",
    "\n",
    "例 1  某企业 1 月～11 月份的销售收入时间序列如表所示。试用一次简单滑动平均法预测第 12 月份的销售收入。 \n",
    "\n",
    "|t|$y_t$|\n",
    "|:--:|:--:|\n",
    "|1|533.8|\n",
    "|2|574.6|\n",
    "|3|606.9|\n",
    "|4|649.8|\n",
    "|5|705.1|\n",
    "|6|772.0|\n",
    "|7|816.4|\n",
    "|8|892.7|\n",
    "|9|963.9|\n",
    "|10|1015.1|\n",
    "|11|1102.7|\n",
    "|12|****|"
   ]
  },
  {
   "cell_type": "code",
   "execution_count": 58,
   "metadata": {},
   "outputs": [],
   "source": [
    "import math\n",
    "def MA(Yt, N):\n",
    "    # 移动平均\n",
    "    return sum(Yt[len(Yt)-N:])/N\n",
    "\n",
    "def SE(Yt, N):\n",
    "    # 预测标准误差\n",
    "    se = 0\n",
    "    for i in range(N, len(Yt)):\n",
    "        se += pow(MA(Yt[i-N:i],N)-Yt[N],2)\n",
    "    se = se/(len(Yt) - N)\n",
    "    se = math.sqrt(se)\n",
    "    return se"
   ]
  },
  {
   "cell_type": "code",
   "execution_count": 59,
   "metadata": {},
   "outputs": [
    {
     "data": {
      "text/plain": [
       "119.0511650959968"
      ]
     },
     "execution_count": 59,
     "metadata": {},
     "output_type": "execute_result"
    }
   ],
   "source": [
    "Yt = [533.8,574.6,606.9,649.8,705.1,772.0,816.4,892.7,963.9,1015.1,1102.7]\n",
    "MA(Yt, 4)\n",
    "SE(Yt,4)"
   ]
  },
  {
   "cell_type": "code",
   "execution_count": 44,
   "metadata": {},
   "outputs": [
    {
     "data": {
      "text/plain": [
       "9"
      ]
     },
     "execution_count": 44,
     "metadata": {},
     "output_type": "execute_result"
    }
   ],
   "source": [
    "pow(3,2)"
   ]
  },
  {
   "cell_type": "markdown",
   "metadata": {},
   "source": [
    "### 移动平均法的优缺点\n",
    "\n",
    "**使用移动平均法进行预测能平滑掉需求的突然波动对预测结果的影响**。但移动平均法运用时也存在着如下**问题**：\n",
    "\n",
    "1. 加大移动平均法的期数（即加大n值）会使平滑波动效果更好，但会使预测值对数据实际变动更不敏感；\n",
    "2. n移动平均值并不能总是很好地反映出趋势。由于是平均值，预测值总是停留在过去的水平上而无法预计会导致将来更高或更低的波动；\n",
    "3. 移动平均法要由大量的过去数据的记录。"
   ]
  },
  {
   "cell_type": "code",
   "execution_count": null,
   "metadata": {},
   "outputs": [],
   "source": []
  }
 ],
 "metadata": {
  "kernelspec": {
   "display_name": "Python 3",
   "language": "python",
   "name": "python3"
  },
  "language_info": {
   "codemirror_mode": {
    "name": "ipython",
    "version": 3
   },
   "file_extension": ".py",
   "mimetype": "text/x-python",
   "name": "python",
   "nbconvert_exporter": "python",
   "pygments_lexer": "ipython3",
   "version": "3.8.3"
  }
 },
 "nbformat": 4,
 "nbformat_minor": 4
}
